{
 "cells": [
  {
   "cell_type": "markdown",
   "id": "aa3cc413-6752-4ad9-9f7a-e27ced147141",
   "metadata": {
    "jp-MarkdownHeadingCollapsed": true
   },
   "source": [
    "# 1. Importar bibliotecas"
   ]
  },
  {
   "cell_type": "code",
   "execution_count": 1,
   "id": "c86b35d6-a4b3-4ae1-a9fe-07821a6f489a",
   "metadata": {},
   "outputs": [],
   "source": [
    "import pandas as pd\n",
    "\n",
    "#import numpy as np\n",
    "#import matplotlib.pyplot as plt\n",
    "#import seaborn as sns"
   ]
  },
  {
   "cell_type": "markdown",
   "id": "fe12eebc-ca7e-4bb7-a770-817495c71e37",
   "metadata": {
    "jp-MarkdownHeadingCollapsed": true
   },
   "source": [
    "# 2. Adquisición de datos"
   ]
  },
  {
   "cell_type": "code",
   "execution_count": 2,
   "id": "a6455b38-df0c-4159-89f0-deaee5703cd3",
   "metadata": {},
   "outputs": [],
   "source": [
    "# Path de datasets local\n",
    "Microdatos_2020_01_csv_path = 'Microdatos_2020_01.csv'\n",
    "Microdatos_1999_01_csv_path = 'Microdatos_1999_01.csv'\n",
    "\n",
    "# Path de datasets para Google Colab\n",
    "#Microdatos_2020_01_csv_path = '/content/drive/MyDrive/Colab Notebooks/Microdatos_2020_01.csv'\n",
    "#Microdatos_1999_01_csv_path = '/content/drive/MyDrive/Colab Notebooks/Microdatos_1999_01.csv'\n",
    "\n",
    "# Path de datasets en Kaggle\n",
    "#Microdatos_2020_01_csv_path = '/kaggle/input/microdatos-encuesta-expectativa/Microdatos_1999_01.csv'\n",
    "#Microdatos_1999_01_csv_path = '/kaggle/input/microdatos-encuesta-expectativa/Microdatos_2020_01.csv'\n",
    "#Inflacion_anual_csv_path = '/kaggle/input/inflacion-anual/Inflacin Anual.csv'"
   ]
  },
  {
   "cell_type": "code",
   "execution_count": 3,
   "id": "2ed725ba-c821-4ab1-b99f-e8aec4ac5bf0",
   "metadata": {},
   "outputs": [],
   "source": [
    "# Crea DataFrame con toda la historia\n",
    "df_exp1 = pd.read_csv(Microdatos_2020_01_csv_path, encoding='latin-1')\n",
    "df_exp2 = pd.read_csv(Microdatos_1999_01_csv_path, encoding='latin-1')\n",
    "df_exp = pd.concat([df_exp1, df_exp2], ignore_index=True) # no se conservan los índices porque no son relevantes"
   ]
  },
  {
   "cell_type": "code",
   "execution_count": 4,
   "id": "506c6dbd-89ee-45ad-b5ba-7a9b75271715",
   "metadata": {},
   "outputs": [],
   "source": [
    "df = df_exp # deja el dataframe para la siguiente etapa"
   ]
  },
  {
   "cell_type": "markdown",
   "id": "15eeff30-58f0-4996-97b6-4e0dda3ed96e",
   "metadata": {
    "jp-MarkdownHeadingCollapsed": true
   },
   "source": [
    "# 3. Inspección inicial\n",
    "\n",
    "Obtener información general sobre los datos, que abarca la cantidad de filas y columnas, los valores de los datos, los tipos de datos y los valores faltantes en el conjunto de datos."
   ]
  },
  {
   "cell_type": "code",
   "execution_count": 5,
   "id": "67db8593-03ff-4357-ad50-35591656fc8c",
   "metadata": {},
   "outputs": [
    {
     "data": {
      "text/plain": [
       "(1551362, 7)"
      ]
     },
     "execution_count": 5,
     "metadata": {},
     "output_type": "execute_result"
    }
   ],
   "source": [
    "# Dimensiones de los datos\n",
    "df.shape\n",
    "# Hay poco mas de un millón y medio de registros, y 7 columnas"
   ]
  },
  {
   "cell_type": "code",
   "execution_count": 6,
   "id": "9cf69015-29d1-4d54-b528-dbcb474107c3",
   "metadata": {},
   "outputs": [
    {
     "data": {
      "text/html": [
       "<div>\n",
       "<style scoped>\n",
       "    .dataframe tbody tr th:only-of-type {\n",
       "        vertical-align: middle;\n",
       "    }\n",
       "\n",
       "    .dataframe tbody tr th {\n",
       "        vertical-align: top;\n",
       "    }\n",
       "\n",
       "    .dataframe thead th {\n",
       "        text-align: right;\n",
       "    }\n",
       "</style>\n",
       "<table border=\"1\" class=\"dataframe\">\n",
       "  <thead>\n",
       "    <tr style=\"text-align: right;\">\n",
       "      <th></th>\n",
       "      <th>FechaEncuesta</th>\n",
       "      <th>NombreAbsolutoCorto</th>\n",
       "      <th>NombreRelativoCorto</th>\n",
       "      <th>NombreAbsolutoLargo</th>\n",
       "      <th>NombreRelativoLargo</th>\n",
       "      <th>IdAnalista</th>\n",
       "      <th>Dato</th>\n",
       "    </tr>\n",
       "  </thead>\n",
       "  <tbody>\n",
       "    <tr>\n",
       "      <th>0</th>\n",
       "      <td>2020-01-01</td>\n",
       "      <td>infgen_a20</td>\n",
       "      <td>infgent</td>\n",
       "      <td>Inflación general al cierre de 2020</td>\n",
       "      <td>Inflación general al cierre del año en curso (...</td>\n",
       "      <td>3</td>\n",
       "      <td>3.500</td>\n",
       "    </tr>\n",
       "    <tr>\n",
       "      <th>1</th>\n",
       "      <td>2020-01-01</td>\n",
       "      <td>infgen_a20</td>\n",
       "      <td>infgent</td>\n",
       "      <td>Inflación general al cierre de 2020</td>\n",
       "      <td>Inflación general al cierre del año en curso (...</td>\n",
       "      <td>4</td>\n",
       "      <td>3.540</td>\n",
       "    </tr>\n",
       "    <tr>\n",
       "      <th>2</th>\n",
       "      <td>2020-01-01</td>\n",
       "      <td>infgen_a20</td>\n",
       "      <td>infgent</td>\n",
       "      <td>Inflación general al cierre de 2020</td>\n",
       "      <td>Inflación general al cierre del año en curso (...</td>\n",
       "      <td>5</td>\n",
       "      <td>3.647</td>\n",
       "    </tr>\n",
       "    <tr>\n",
       "      <th>3</th>\n",
       "      <td>2020-01-01</td>\n",
       "      <td>infgen_a20</td>\n",
       "      <td>infgent</td>\n",
       "      <td>Inflación general al cierre de 2020</td>\n",
       "      <td>Inflación general al cierre del año en curso (...</td>\n",
       "      <td>7</td>\n",
       "      <td>3.500</td>\n",
       "    </tr>\n",
       "    <tr>\n",
       "      <th>4</th>\n",
       "      <td>2020-01-01</td>\n",
       "      <td>infgen_a20</td>\n",
       "      <td>infgent</td>\n",
       "      <td>Inflación general al cierre de 2020</td>\n",
       "      <td>Inflación general al cierre del año en curso (...</td>\n",
       "      <td>8</td>\n",
       "      <td>3.870</td>\n",
       "    </tr>\n",
       "  </tbody>\n",
       "</table>\n",
       "</div>"
      ],
      "text/plain": [
       "  FechaEncuesta NombreAbsolutoCorto NombreRelativoCorto  \\\n",
       "0    2020-01-01          infgen_a20             infgent   \n",
       "1    2020-01-01          infgen_a20             infgent   \n",
       "2    2020-01-01          infgen_a20             infgent   \n",
       "3    2020-01-01          infgen_a20             infgent   \n",
       "4    2020-01-01          infgen_a20             infgent   \n",
       "\n",
       "                   NombreAbsolutoLargo  \\\n",
       "0  Inflación general al cierre de 2020   \n",
       "1  Inflación general al cierre de 2020   \n",
       "2  Inflación general al cierre de 2020   \n",
       "3  Inflación general al cierre de 2020   \n",
       "4  Inflación general al cierre de 2020   \n",
       "\n",
       "                                 NombreRelativoLargo  IdAnalista   Dato  \n",
       "0  Inflación general al cierre del año en curso (...           3  3.500  \n",
       "1  Inflación general al cierre del año en curso (...           4  3.540  \n",
       "2  Inflación general al cierre del año en curso (...           5  3.647  \n",
       "3  Inflación general al cierre del año en curso (...           7  3.500  \n",
       "4  Inflación general al cierre del año en curso (...           8  3.870  "
      ]
     },
     "metadata": {},
     "output_type": "display_data"
    },
    {
     "data": {
      "text/html": [
       "<div>\n",
       "<style scoped>\n",
       "    .dataframe tbody tr th:only-of-type {\n",
       "        vertical-align: middle;\n",
       "    }\n",
       "\n",
       "    .dataframe tbody tr th {\n",
       "        vertical-align: top;\n",
       "    }\n",
       "\n",
       "    .dataframe thead th {\n",
       "        text-align: right;\n",
       "    }\n",
       "</style>\n",
       "<table border=\"1\" class=\"dataframe\">\n",
       "  <thead>\n",
       "    <tr style=\"text-align: right;\">\n",
       "      <th></th>\n",
       "      <th>FechaEncuesta</th>\n",
       "      <th>NombreAbsolutoCorto</th>\n",
       "      <th>NombreRelativoCorto</th>\n",
       "      <th>NombreAbsolutoLargo</th>\n",
       "      <th>NombreRelativoLargo</th>\n",
       "      <th>IdAnalista</th>\n",
       "      <th>Dato</th>\n",
       "    </tr>\n",
       "  </thead>\n",
       "  <tbody>\n",
       "    <tr>\n",
       "      <th>1551357</th>\n",
       "      <td>2019-12-01</td>\n",
       "      <td>pibeu_a21</td>\n",
       "      <td>pibeutmas2</td>\n",
       "      <td>Tasa de crecimiento de Estados Unidos en 2021</td>\n",
       "      <td>Variación porcentual anual del PIB de Estados ...</td>\n",
       "      <td>59</td>\n",
       "      <td>1.9</td>\n",
       "    </tr>\n",
       "    <tr>\n",
       "      <th>1551358</th>\n",
       "      <td>2019-12-01</td>\n",
       "      <td>pibeu_a21</td>\n",
       "      <td>pibeutmas2</td>\n",
       "      <td>Tasa de crecimiento de Estados Unidos en 2021</td>\n",
       "      <td>Variación porcentual anual del PIB de Estados ...</td>\n",
       "      <td>61</td>\n",
       "      <td>1.6</td>\n",
       "    </tr>\n",
       "    <tr>\n",
       "      <th>1551359</th>\n",
       "      <td>2019-12-01</td>\n",
       "      <td>pibeu_a21</td>\n",
       "      <td>pibeutmas2</td>\n",
       "      <td>Tasa de crecimiento de Estados Unidos en 2021</td>\n",
       "      <td>Variación porcentual anual del PIB de Estados ...</td>\n",
       "      <td>65</td>\n",
       "      <td>2.2</td>\n",
       "    </tr>\n",
       "    <tr>\n",
       "      <th>1551360</th>\n",
       "      <td>2019-12-01</td>\n",
       "      <td>pibeu_a21</td>\n",
       "      <td>pibeutmas2</td>\n",
       "      <td>Tasa de crecimiento de Estados Unidos en 2021</td>\n",
       "      <td>Variación porcentual anual del PIB de Estados ...</td>\n",
       "      <td>92</td>\n",
       "      <td>1.9</td>\n",
       "    </tr>\n",
       "    <tr>\n",
       "      <th>1551361</th>\n",
       "      <td>2019-12-01</td>\n",
       "      <td>pibeu_a21</td>\n",
       "      <td>pibeutmas2</td>\n",
       "      <td>Tasa de crecimiento de Estados Unidos en 2021</td>\n",
       "      <td>Variación porcentual anual del PIB de Estados ...</td>\n",
       "      <td>94</td>\n",
       "      <td>2.0</td>\n",
       "    </tr>\n",
       "  </tbody>\n",
       "</table>\n",
       "</div>"
      ],
      "text/plain": [
       "        FechaEncuesta NombreAbsolutoCorto NombreRelativoCorto  \\\n",
       "1551357    2019-12-01           pibeu_a21          pibeutmas2   \n",
       "1551358    2019-12-01           pibeu_a21          pibeutmas2   \n",
       "1551359    2019-12-01           pibeu_a21          pibeutmas2   \n",
       "1551360    2019-12-01           pibeu_a21          pibeutmas2   \n",
       "1551361    2019-12-01           pibeu_a21          pibeutmas2   \n",
       "\n",
       "                                   NombreAbsolutoLargo  \\\n",
       "1551357  Tasa de crecimiento de Estados Unidos en 2021   \n",
       "1551358  Tasa de crecimiento de Estados Unidos en 2021   \n",
       "1551359  Tasa de crecimiento de Estados Unidos en 2021   \n",
       "1551360  Tasa de crecimiento de Estados Unidos en 2021   \n",
       "1551361  Tasa de crecimiento de Estados Unidos en 2021   \n",
       "\n",
       "                                       NombreRelativoLargo  IdAnalista  Dato  \n",
       "1551357  Variación porcentual anual del PIB de Estados ...          59   1.9  \n",
       "1551358  Variación porcentual anual del PIB de Estados ...          61   1.6  \n",
       "1551359  Variación porcentual anual del PIB de Estados ...          65   2.2  \n",
       "1551360  Variación porcentual anual del PIB de Estados ...          92   1.9  \n",
       "1551361  Variación porcentual anual del PIB de Estados ...          94   2.0  "
      ]
     },
     "metadata": {},
     "output_type": "display_data"
    }
   ],
   "source": [
    "# Visualización de los primeros y últimos 5 renglones.\n",
    "display(df.head(), df.tail())"
   ]
  },
  {
   "cell_type": "code",
   "execution_count": 7,
   "id": "767efeb8-ad2f-49c1-b773-cd0bb87903a3",
   "metadata": {},
   "outputs": [
    {
     "data": {
      "text/plain": [
       "Index(['FechaEncuesta', 'NombreAbsolutoCorto', 'NombreRelativoCorto',\n",
       "       'NombreAbsolutoLargo', 'NombreRelativoLargo', 'IdAnalista', 'Dato'],\n",
       "      dtype='object')"
      ]
     },
     "execution_count": 7,
     "metadata": {},
     "output_type": "execute_result"
    }
   ],
   "source": [
    "# Las 7 columnas son: 'FechaEncuesta', 'NombreAbsolutoCorto', 'NombreRelativoCorto', 'NombreAbsolutoLargo',\n",
    "# 'NombreRelativoLargo', 'IdAnalista', 'Dato'\n",
    "df.columns"
   ]
  },
  {
   "cell_type": "code",
   "execution_count": 8,
   "id": "7dfb6f32-16c6-4d37-aa36-2b400fba7e99",
   "metadata": {},
   "outputs": [
    {
     "data": {
      "text/plain": [
       "FechaEncuesta           object\n",
       "NombreAbsolutoCorto     object\n",
       "NombreRelativoCorto     object\n",
       "NombreAbsolutoLargo     object\n",
       "NombreRelativoLargo     object\n",
       "IdAnalista               int64\n",
       "Dato                   float64\n",
       "dtype: object"
      ]
     },
     "execution_count": 8,
     "metadata": {},
     "output_type": "execute_result"
    }
   ],
   "source": [
    "# Tipos de las columnas\n",
    "df.dtypes"
   ]
  },
  {
   "cell_type": "markdown",
   "id": "2a66ca5e-b996-4412-a662-6e5d48ed53f5",
   "metadata": {},
   "source": [
    "# 4. Preparación de los datos"
   ]
  },
  {
   "cell_type": "markdown",
   "id": "fcb37438-0312-4805-9c83-b8038771c695",
   "metadata": {
    "jp-MarkdownHeadingCollapsed": true
   },
   "source": [
    "## 4.1. Limpieza de los datos (duplicados, faltantes)"
   ]
  },
  {
   "cell_type": "code",
   "execution_count": 9,
   "id": "e497c8be-94d1-429b-bccc-a8a008f08ad8",
   "metadata": {},
   "outputs": [
    {
     "data": {
      "text/plain": [
       "np.int64(0)"
      ]
     },
     "execution_count": 9,
     "metadata": {},
     "output_type": "execute_result"
    }
   ],
   "source": [
    "# No hay registros duplicados\n",
    "df.duplicated().sum()"
   ]
  },
  {
   "cell_type": "code",
   "execution_count": 10,
   "id": "c63706a2-4617-4158-99e8-f8dc99598f43",
   "metadata": {},
   "outputs": [
    {
     "data": {
      "text/plain": [
       "FechaEncuesta          0\n",
       "NombreAbsolutoCorto    0\n",
       "NombreRelativoCorto    0\n",
       "NombreAbsolutoLargo    0\n",
       "NombreRelativoLargo    0\n",
       "IdAnalista             0\n",
       "Dato                   0\n",
       "dtype: int64"
      ]
     },
     "execution_count": 10,
     "metadata": {},
     "output_type": "execute_result"
    }
   ],
   "source": [
    "# No hay valores faltantes\n",
    "df.isnull().sum()"
   ]
  },
  {
   "cell_type": "markdown",
   "id": "af355542-08bc-48f9-845e-39a5ba8ff16a",
   "metadata": {
    "jp-MarkdownHeadingCollapsed": true
   },
   "source": [
    "## 4.2. Reducción de los datos"
   ]
  },
  {
   "cell_type": "code",
   "execution_count": 11,
   "id": "c5e960e7-3e61-4850-9cdc-749c75a775b6",
   "metadata": {},
   "outputs": [
    {
     "data": {
      "text/html": [
       "<div>\n",
       "<style scoped>\n",
       "    .dataframe tbody tr th:only-of-type {\n",
       "        vertical-align: middle;\n",
       "    }\n",
       "\n",
       "    .dataframe tbody tr th {\n",
       "        vertical-align: top;\n",
       "    }\n",
       "\n",
       "    .dataframe thead th {\n",
       "        text-align: right;\n",
       "    }\n",
       "</style>\n",
       "<table border=\"1\" class=\"dataframe\">\n",
       "  <thead>\n",
       "    <tr style=\"text-align: right;\">\n",
       "      <th></th>\n",
       "      <th>FechaEncuesta</th>\n",
       "      <th>NombreRelativoCorto</th>\n",
       "      <th>NombreRelativoLargo</th>\n",
       "      <th>IdAnalista</th>\n",
       "      <th>Dato</th>\n",
       "    </tr>\n",
       "  </thead>\n",
       "  <tbody>\n",
       "    <tr>\n",
       "      <th>0</th>\n",
       "      <td>2020-01-01</td>\n",
       "      <td>infgent</td>\n",
       "      <td>Inflación general al cierre del año en curso (...</td>\n",
       "      <td>3</td>\n",
       "      <td>3.500</td>\n",
       "    </tr>\n",
       "    <tr>\n",
       "      <th>1</th>\n",
       "      <td>2020-01-01</td>\n",
       "      <td>infgent</td>\n",
       "      <td>Inflación general al cierre del año en curso (...</td>\n",
       "      <td>4</td>\n",
       "      <td>3.540</td>\n",
       "    </tr>\n",
       "    <tr>\n",
       "      <th>2</th>\n",
       "      <td>2020-01-01</td>\n",
       "      <td>infgent</td>\n",
       "      <td>Inflación general al cierre del año en curso (...</td>\n",
       "      <td>5</td>\n",
       "      <td>3.647</td>\n",
       "    </tr>\n",
       "    <tr>\n",
       "      <th>3</th>\n",
       "      <td>2020-01-01</td>\n",
       "      <td>infgent</td>\n",
       "      <td>Inflación general al cierre del año en curso (...</td>\n",
       "      <td>7</td>\n",
       "      <td>3.500</td>\n",
       "    </tr>\n",
       "    <tr>\n",
       "      <th>4</th>\n",
       "      <td>2020-01-01</td>\n",
       "      <td>infgent</td>\n",
       "      <td>Inflación general al cierre del año en curso (...</td>\n",
       "      <td>8</td>\n",
       "      <td>3.870</td>\n",
       "    </tr>\n",
       "  </tbody>\n",
       "</table>\n",
       "</div>"
      ],
      "text/plain": [
       "  FechaEncuesta NombreRelativoCorto  \\\n",
       "0    2020-01-01             infgent   \n",
       "1    2020-01-01             infgent   \n",
       "2    2020-01-01             infgent   \n",
       "3    2020-01-01             infgent   \n",
       "4    2020-01-01             infgent   \n",
       "\n",
       "                                 NombreRelativoLargo  IdAnalista   Dato  \n",
       "0  Inflación general al cierre del año en curso (...           3  3.500  \n",
       "1  Inflación general al cierre del año en curso (...           4  3.540  \n",
       "2  Inflación general al cierre del año en curso (...           5  3.647  \n",
       "3  Inflación general al cierre del año en curso (...           7  3.500  \n",
       "4  Inflación general al cierre del año en curso (...           8  3.870  "
      ]
     },
     "execution_count": 11,
     "metadata": {},
     "output_type": "execute_result"
    }
   ],
   "source": [
    "# Se eliminan las columnas con el nombre 'Absoluto' de la variable,\n",
    "# porque son columnas derivadas de la columna FechaEncuesta y las columnas\n",
    "# con nombre 'Relativo' y por tanto no agregan valor para el análisis.\n",
    "df_red = df.drop(['NombreAbsolutoCorto', 'NombreAbsolutoLargo'], axis = 1)\n",
    "df_red.head()"
   ]
  },
  {
   "cell_type": "markdown",
   "id": "57d322ae-cdd8-47c4-b2f4-4cebc4eb7f4c",
   "metadata": {},
   "source": [
    "## 4.3. Conversión de tipo de datos"
   ]
  },
  {
   "cell_type": "code",
   "execution_count": 12,
   "id": "56b218f1-9301-481f-999e-72e57634dbd4",
   "metadata": {},
   "outputs": [
    {
     "name": "stdout",
     "output_type": "stream",
     "text": [
      "Antes:\n"
     ]
    },
    {
     "data": {
      "text/plain": [
       "FechaEncuesta           object\n",
       "NombreRelativoCorto     object\n",
       "NombreRelativoLargo     object\n",
       "IdAnalista               int64\n",
       "Dato                   float64\n",
       "dtype: object"
      ]
     },
     "metadata": {},
     "output_type": "display_data"
    },
    {
     "name": "stdout",
     "output_type": "stream",
     "text": [
      "\n",
      "Después:\n"
     ]
    },
    {
     "data": {
      "text/plain": [
       "FechaEncuesta          datetime64[ns]\n",
       "NombreRelativoCorto            object\n",
       "NombreRelativoLargo            object\n",
       "IdAnalista                      int64\n",
       "Dato                          float64\n",
       "dtype: object"
      ]
     },
     "metadata": {},
     "output_type": "display_data"
    },
    {
     "data": {
      "text/html": [
       "<div>\n",
       "<style scoped>\n",
       "    .dataframe tbody tr th:only-of-type {\n",
       "        vertical-align: middle;\n",
       "    }\n",
       "\n",
       "    .dataframe tbody tr th {\n",
       "        vertical-align: top;\n",
       "    }\n",
       "\n",
       "    .dataframe thead th {\n",
       "        text-align: right;\n",
       "    }\n",
       "</style>\n",
       "<table border=\"1\" class=\"dataframe\">\n",
       "  <thead>\n",
       "    <tr style=\"text-align: right;\">\n",
       "      <th></th>\n",
       "      <th>FechaEncuesta</th>\n",
       "      <th>NombreRelativoCorto</th>\n",
       "      <th>NombreRelativoLargo</th>\n",
       "      <th>IdAnalista</th>\n",
       "      <th>Dato</th>\n",
       "    </tr>\n",
       "  </thead>\n",
       "  <tbody>\n",
       "    <tr>\n",
       "      <th>0</th>\n",
       "      <td>2020-01-01</td>\n",
       "      <td>infgent</td>\n",
       "      <td>Inflación general al cierre del año en curso (...</td>\n",
       "      <td>3</td>\n",
       "      <td>3.500</td>\n",
       "    </tr>\n",
       "    <tr>\n",
       "      <th>1</th>\n",
       "      <td>2020-01-01</td>\n",
       "      <td>infgent</td>\n",
       "      <td>Inflación general al cierre del año en curso (...</td>\n",
       "      <td>4</td>\n",
       "      <td>3.540</td>\n",
       "    </tr>\n",
       "    <tr>\n",
       "      <th>2</th>\n",
       "      <td>2020-01-01</td>\n",
       "      <td>infgent</td>\n",
       "      <td>Inflación general al cierre del año en curso (...</td>\n",
       "      <td>5</td>\n",
       "      <td>3.647</td>\n",
       "    </tr>\n",
       "    <tr>\n",
       "      <th>3</th>\n",
       "      <td>2020-01-01</td>\n",
       "      <td>infgent</td>\n",
       "      <td>Inflación general al cierre del año en curso (...</td>\n",
       "      <td>7</td>\n",
       "      <td>3.500</td>\n",
       "    </tr>\n",
       "    <tr>\n",
       "      <th>4</th>\n",
       "      <td>2020-01-01</td>\n",
       "      <td>infgent</td>\n",
       "      <td>Inflación general al cierre del año en curso (...</td>\n",
       "      <td>8</td>\n",
       "      <td>3.870</td>\n",
       "    </tr>\n",
       "  </tbody>\n",
       "</table>\n",
       "</div>"
      ],
      "text/plain": [
       "  FechaEncuesta NombreRelativoCorto  \\\n",
       "0    2020-01-01             infgent   \n",
       "1    2020-01-01             infgent   \n",
       "2    2020-01-01             infgent   \n",
       "3    2020-01-01             infgent   \n",
       "4    2020-01-01             infgent   \n",
       "\n",
       "                                 NombreRelativoLargo  IdAnalista   Dato  \n",
       "0  Inflación general al cierre del año en curso (...           3  3.500  \n",
       "1  Inflación general al cierre del año en curso (...           4  3.540  \n",
       "2  Inflación general al cierre del año en curso (...           5  3.647  \n",
       "3  Inflación general al cierre del año en curso (...           7  3.500  \n",
       "4  Inflación general al cierre del año en curso (...           8  3.870  "
      ]
     },
     "metadata": {},
     "output_type": "display_data"
    }
   ],
   "source": [
    "print('Antes:')\n",
    "display(df_red.dtypes)\n",
    "\n",
    "# Convierte la FechaEncuesta a datetime\n",
    "df_conv=df_red.copy()\n",
    "df_conv['FechaEncuesta'] = pd.to_datetime(df_conv['FechaEncuesta'], errors='raise')\n",
    "print('\\nDespués:')\n",
    "display(df_conv.dtypes, df_conv.head())"
   ]
  },
  {
   "cell_type": "code",
   "execution_count": 13,
   "id": "b9723f83-4c9c-4bc6-b006-a90a4fa8ecc2",
   "metadata": {},
   "outputs": [
    {
     "data": {
      "text/plain": [
       "FechaEncuesta            309\n",
       "NombreRelativoCorto      598\n",
       "NombreRelativoLargo      601\n",
       "IdAnalista                98\n",
       "Dato                   26739\n",
       "dtype: int64"
      ]
     },
     "execution_count": 13,
     "metadata": {},
     "output_type": "execute_result"
    }
   ],
   "source": [
    "# Observando los valores únicos por columna, no parece haber variables categóricas, sino sólo contínuas\n",
    "df_conv.nunique()"
   ]
  },
  {
   "cell_type": "markdown",
   "id": "206e8fa9-a767-42e8-b812-63803904add6",
   "metadata": {},
   "source": [
    "## 4.4. Agregar columnas calculadas"
   ]
  },
  {
   "cell_type": "code",
   "execution_count": 14,
   "id": "8f70f565-42fa-4036-88df-39600b0078cd",
   "metadata": {},
   "outputs": [
    {
     "data": {
      "text/plain": [
       "FechaEncuesta          datetime64[ns]\n",
       "NombreRelativoCorto            object\n",
       "NombreRelativoLargo            object\n",
       "IdAnalista                      int64\n",
       "Dato                          float64\n",
       "AñoEncuesta                     int32\n",
       "MesEncuesta                     int32\n",
       "dtype: object"
      ]
     },
     "metadata": {},
     "output_type": "display_data"
    },
    {
     "data": {
      "text/html": [
       "<div>\n",
       "<style scoped>\n",
       "    .dataframe tbody tr th:only-of-type {\n",
       "        vertical-align: middle;\n",
       "    }\n",
       "\n",
       "    .dataframe tbody tr th {\n",
       "        vertical-align: top;\n",
       "    }\n",
       "\n",
       "    .dataframe thead th {\n",
       "        text-align: right;\n",
       "    }\n",
       "</style>\n",
       "<table border=\"1\" class=\"dataframe\">\n",
       "  <thead>\n",
       "    <tr style=\"text-align: right;\">\n",
       "      <th></th>\n",
       "      <th>FechaEncuesta</th>\n",
       "      <th>NombreRelativoCorto</th>\n",
       "      <th>NombreRelativoLargo</th>\n",
       "      <th>IdAnalista</th>\n",
       "      <th>Dato</th>\n",
       "      <th>AñoEncuesta</th>\n",
       "      <th>MesEncuesta</th>\n",
       "    </tr>\n",
       "  </thead>\n",
       "  <tbody>\n",
       "    <tr>\n",
       "      <th>0</th>\n",
       "      <td>2020-01-01</td>\n",
       "      <td>infgent</td>\n",
       "      <td>Inflación general al cierre del año en curso (...</td>\n",
       "      <td>3</td>\n",
       "      <td>3.500</td>\n",
       "      <td>2020</td>\n",
       "      <td>1</td>\n",
       "    </tr>\n",
       "    <tr>\n",
       "      <th>1</th>\n",
       "      <td>2020-01-01</td>\n",
       "      <td>infgent</td>\n",
       "      <td>Inflación general al cierre del año en curso (...</td>\n",
       "      <td>4</td>\n",
       "      <td>3.540</td>\n",
       "      <td>2020</td>\n",
       "      <td>1</td>\n",
       "    </tr>\n",
       "    <tr>\n",
       "      <th>2</th>\n",
       "      <td>2020-01-01</td>\n",
       "      <td>infgent</td>\n",
       "      <td>Inflación general al cierre del año en curso (...</td>\n",
       "      <td>5</td>\n",
       "      <td>3.647</td>\n",
       "      <td>2020</td>\n",
       "      <td>1</td>\n",
       "    </tr>\n",
       "    <tr>\n",
       "      <th>3</th>\n",
       "      <td>2020-01-01</td>\n",
       "      <td>infgent</td>\n",
       "      <td>Inflación general al cierre del año en curso (...</td>\n",
       "      <td>7</td>\n",
       "      <td>3.500</td>\n",
       "      <td>2020</td>\n",
       "      <td>1</td>\n",
       "    </tr>\n",
       "    <tr>\n",
       "      <th>4</th>\n",
       "      <td>2020-01-01</td>\n",
       "      <td>infgent</td>\n",
       "      <td>Inflación general al cierre del año en curso (...</td>\n",
       "      <td>8</td>\n",
       "      <td>3.870</td>\n",
       "      <td>2020</td>\n",
       "      <td>1</td>\n",
       "    </tr>\n",
       "  </tbody>\n",
       "</table>\n",
       "</div>"
      ],
      "text/plain": [
       "  FechaEncuesta NombreRelativoCorto  \\\n",
       "0    2020-01-01             infgent   \n",
       "1    2020-01-01             infgent   \n",
       "2    2020-01-01             infgent   \n",
       "3    2020-01-01             infgent   \n",
       "4    2020-01-01             infgent   \n",
       "\n",
       "                                 NombreRelativoLargo  IdAnalista   Dato  \\\n",
       "0  Inflación general al cierre del año en curso (...           3  3.500   \n",
       "1  Inflación general al cierre del año en curso (...           4  3.540   \n",
       "2  Inflación general al cierre del año en curso (...           5  3.647   \n",
       "3  Inflación general al cierre del año en curso (...           7  3.500   \n",
       "4  Inflación general al cierre del año en curso (...           8  3.870   \n",
       "\n",
       "   AñoEncuesta  MesEncuesta  \n",
       "0         2020            1  \n",
       "1         2020            1  \n",
       "2         2020            1  \n",
       "3         2020            1  \n",
       "4         2020            1  "
      ]
     },
     "metadata": {},
     "output_type": "display_data"
    },
    {
     "data": {
      "text/html": [
       "<div>\n",
       "<style scoped>\n",
       "    .dataframe tbody tr th:only-of-type {\n",
       "        vertical-align: middle;\n",
       "    }\n",
       "\n",
       "    .dataframe tbody tr th {\n",
       "        vertical-align: top;\n",
       "    }\n",
       "\n",
       "    .dataframe thead th {\n",
       "        text-align: right;\n",
       "    }\n",
       "</style>\n",
       "<table border=\"1\" class=\"dataframe\">\n",
       "  <thead>\n",
       "    <tr style=\"text-align: right;\">\n",
       "      <th></th>\n",
       "      <th>FechaEncuesta</th>\n",
       "      <th>NombreRelativoCorto</th>\n",
       "      <th>NombreRelativoLargo</th>\n",
       "      <th>IdAnalista</th>\n",
       "      <th>Dato</th>\n",
       "      <th>AñoEncuesta</th>\n",
       "      <th>MesEncuesta</th>\n",
       "    </tr>\n",
       "  </thead>\n",
       "  <tbody>\n",
       "    <tr>\n",
       "      <th>1551357</th>\n",
       "      <td>2019-12-01</td>\n",
       "      <td>pibeutmas2</td>\n",
       "      <td>Variación porcentual anual del PIB de Estados ...</td>\n",
       "      <td>59</td>\n",
       "      <td>1.9</td>\n",
       "      <td>2019</td>\n",
       "      <td>12</td>\n",
       "    </tr>\n",
       "    <tr>\n",
       "      <th>1551358</th>\n",
       "      <td>2019-12-01</td>\n",
       "      <td>pibeutmas2</td>\n",
       "      <td>Variación porcentual anual del PIB de Estados ...</td>\n",
       "      <td>61</td>\n",
       "      <td>1.6</td>\n",
       "      <td>2019</td>\n",
       "      <td>12</td>\n",
       "    </tr>\n",
       "    <tr>\n",
       "      <th>1551359</th>\n",
       "      <td>2019-12-01</td>\n",
       "      <td>pibeutmas2</td>\n",
       "      <td>Variación porcentual anual del PIB de Estados ...</td>\n",
       "      <td>65</td>\n",
       "      <td>2.2</td>\n",
       "      <td>2019</td>\n",
       "      <td>12</td>\n",
       "    </tr>\n",
       "    <tr>\n",
       "      <th>1551360</th>\n",
       "      <td>2019-12-01</td>\n",
       "      <td>pibeutmas2</td>\n",
       "      <td>Variación porcentual anual del PIB de Estados ...</td>\n",
       "      <td>92</td>\n",
       "      <td>1.9</td>\n",
       "      <td>2019</td>\n",
       "      <td>12</td>\n",
       "    </tr>\n",
       "    <tr>\n",
       "      <th>1551361</th>\n",
       "      <td>2019-12-01</td>\n",
       "      <td>pibeutmas2</td>\n",
       "      <td>Variación porcentual anual del PIB de Estados ...</td>\n",
       "      <td>94</td>\n",
       "      <td>2.0</td>\n",
       "      <td>2019</td>\n",
       "      <td>12</td>\n",
       "    </tr>\n",
       "  </tbody>\n",
       "</table>\n",
       "</div>"
      ],
      "text/plain": [
       "        FechaEncuesta NombreRelativoCorto  \\\n",
       "1551357    2019-12-01          pibeutmas2   \n",
       "1551358    2019-12-01          pibeutmas2   \n",
       "1551359    2019-12-01          pibeutmas2   \n",
       "1551360    2019-12-01          pibeutmas2   \n",
       "1551361    2019-12-01          pibeutmas2   \n",
       "\n",
       "                                       NombreRelativoLargo  IdAnalista  Dato  \\\n",
       "1551357  Variación porcentual anual del PIB de Estados ...          59   1.9   \n",
       "1551358  Variación porcentual anual del PIB de Estados ...          61   1.6   \n",
       "1551359  Variación porcentual anual del PIB de Estados ...          65   2.2   \n",
       "1551360  Variación porcentual anual del PIB de Estados ...          92   1.9   \n",
       "1551361  Variación porcentual anual del PIB de Estados ...          94   2.0   \n",
       "\n",
       "         AñoEncuesta  MesEncuesta  \n",
       "1551357         2019           12  \n",
       "1551358         2019           12  \n",
       "1551359         2019           12  \n",
       "1551360         2019           12  \n",
       "1551361         2019           12  "
      ]
     },
     "metadata": {},
     "output_type": "display_data"
    }
   ],
   "source": [
    "df_agr=df_conv.copy()\n",
    "df_agr['AñoEncuesta'] = df_agr['FechaEncuesta'].dt.year   # Columna con el año\n",
    "df_agr['MesEncuesta'] = df_agr['FechaEncuesta'].dt.month  # Columna con el número de mes\n",
    "display(df_agr.dtypes, df_agr.head(), df_agr.tail())"
   ]
  },
  {
   "cell_type": "markdown",
   "id": "c18aa9f8-b74b-4a15-bed4-371113674796",
   "metadata": {},
   "source": [
    "## 4.5. Simplificar nombres columnas"
   ]
  },
  {
   "cell_type": "code",
   "execution_count": 15,
   "id": "ca2d03a6-010f-4d44-be96-a0ac8cd5cc27",
   "metadata": {},
   "outputs": [
    {
     "name": "stdout",
     "output_type": "stream",
     "text": [
      "Antes:\n",
      " Index(['FechaEncuesta', 'NombreRelativoCorto', 'NombreRelativoLargo',\n",
      "       'IdAnalista', 'Dato', 'AñoEncuesta', 'MesEncuesta'],\n",
      "      dtype='object')\n",
      "\n",
      "Después:\n",
      " Index(['Fecha', 'IdVariable', 'Variable', 'IdAnalista', 'Expectativa', 'Año',\n",
      "       'Mes'],\n",
      "      dtype='object')\n"
     ]
    },
    {
     "data": {
      "text/html": [
       "<div>\n",
       "<style scoped>\n",
       "    .dataframe tbody tr th:only-of-type {\n",
       "        vertical-align: middle;\n",
       "    }\n",
       "\n",
       "    .dataframe tbody tr th {\n",
       "        vertical-align: top;\n",
       "    }\n",
       "\n",
       "    .dataframe thead th {\n",
       "        text-align: right;\n",
       "    }\n",
       "</style>\n",
       "<table border=\"1\" class=\"dataframe\">\n",
       "  <thead>\n",
       "    <tr style=\"text-align: right;\">\n",
       "      <th></th>\n",
       "      <th>Fecha</th>\n",
       "      <th>IdVariable</th>\n",
       "      <th>Variable</th>\n",
       "      <th>IdAnalista</th>\n",
       "      <th>Expectativa</th>\n",
       "      <th>Año</th>\n",
       "      <th>Mes</th>\n",
       "    </tr>\n",
       "  </thead>\n",
       "  <tbody>\n",
       "    <tr>\n",
       "      <th>0</th>\n",
       "      <td>2020-01-01</td>\n",
       "      <td>infgent</td>\n",
       "      <td>Inflación general al cierre del año en curso (...</td>\n",
       "      <td>3</td>\n",
       "      <td>3.500</td>\n",
       "      <td>2020</td>\n",
       "      <td>1</td>\n",
       "    </tr>\n",
       "    <tr>\n",
       "      <th>1</th>\n",
       "      <td>2020-01-01</td>\n",
       "      <td>infgent</td>\n",
       "      <td>Inflación general al cierre del año en curso (...</td>\n",
       "      <td>4</td>\n",
       "      <td>3.540</td>\n",
       "      <td>2020</td>\n",
       "      <td>1</td>\n",
       "    </tr>\n",
       "    <tr>\n",
       "      <th>2</th>\n",
       "      <td>2020-01-01</td>\n",
       "      <td>infgent</td>\n",
       "      <td>Inflación general al cierre del año en curso (...</td>\n",
       "      <td>5</td>\n",
       "      <td>3.647</td>\n",
       "      <td>2020</td>\n",
       "      <td>1</td>\n",
       "    </tr>\n",
       "    <tr>\n",
       "      <th>3</th>\n",
       "      <td>2020-01-01</td>\n",
       "      <td>infgent</td>\n",
       "      <td>Inflación general al cierre del año en curso (...</td>\n",
       "      <td>7</td>\n",
       "      <td>3.500</td>\n",
       "      <td>2020</td>\n",
       "      <td>1</td>\n",
       "    </tr>\n",
       "    <tr>\n",
       "      <th>4</th>\n",
       "      <td>2020-01-01</td>\n",
       "      <td>infgent</td>\n",
       "      <td>Inflación general al cierre del año en curso (...</td>\n",
       "      <td>8</td>\n",
       "      <td>3.870</td>\n",
       "      <td>2020</td>\n",
       "      <td>1</td>\n",
       "    </tr>\n",
       "  </tbody>\n",
       "</table>\n",
       "</div>"
      ],
      "text/plain": [
       "       Fecha IdVariable                                           Variable  \\\n",
       "0 2020-01-01    infgent  Inflación general al cierre del año en curso (...   \n",
       "1 2020-01-01    infgent  Inflación general al cierre del año en curso (...   \n",
       "2 2020-01-01    infgent  Inflación general al cierre del año en curso (...   \n",
       "3 2020-01-01    infgent  Inflación general al cierre del año en curso (...   \n",
       "4 2020-01-01    infgent  Inflación general al cierre del año en curso (...   \n",
       "\n",
       "   IdAnalista  Expectativa   Año  Mes  \n",
       "0           3        3.500  2020    1  \n",
       "1           4        3.540  2020    1  \n",
       "2           5        3.647  2020    1  \n",
       "3           7        3.500  2020    1  \n",
       "4           8        3.870  2020    1  "
      ]
     },
     "metadata": {},
     "output_type": "display_data"
    }
   ],
   "source": [
    "# Simplifica el nombre de las columnas\n",
    "print('Antes:\\n', df_agr.columns)\n",
    "df_simp=df_agr.rename(columns={\n",
    "    'FechaEncuesta'      :'Fecha',\n",
    "    'NombreRelativoCorto':'IdVariable',\n",
    "    'NombreRelativoLargo':'Variable',\n",
    "    'IdAnalista'         :'IdAnalista',\n",
    "    'Dato'               :'Expectativa',\n",
    "    'AñoEncuesta'        :'Año',\n",
    "    'MesEncuesta'        :'Mes'\n",
    "})\n",
    "print('\\nDespués:\\n', df_simp.columns)\n",
    "display(df_simp.head())"
   ]
  },
  {
   "cell_type": "markdown",
   "id": "ffc0494f-089e-4384-b38f-f09abcee91ab",
   "metadata": {},
   "source": [
    "## 4.6. Homologación de valores"
   ]
  },
  {
   "cell_type": "markdown",
   "id": "9658cb18-3a14-470f-bc12-bc24071a5c34",
   "metadata": {},
   "source": [
    "### Orden renglones"
   ]
  },
  {
   "cell_type": "code",
   "execution_count": 16,
   "id": "52574bda-06da-4dbb-b4ab-5110f3c87b60",
   "metadata": {},
   "outputs": [
    {
     "name": "stdout",
     "output_type": "stream",
     "text": [
      "Antes:\n",
      " [2020 2021 2022 2023 2024 1999 2000 2001 2002 2003 2004 2005 2006 2007\n",
      " 2008 2009 2010 2011 2012 2013 2014 2015 2016 2017 2018 2019]\n",
      "Después:\n",
      " [1999 2000 2001 2002 2003 2004 2005 2006 2007 2008 2009 2010 2011 2012\n",
      " 2013 2014 2015 2016 2017 2018 2019 2020 2021 2022 2023 2024]\n"
     ]
    }
   ],
   "source": [
    "# Se ve desordenado por fecha\n",
    "print('Antes:\\n',df_simp['Año'].unique())\n",
    "\n",
    "# Ordenar por fecha\n",
    "df_ord_r=df_simp.sort_values(by=['Año','Mes', 'Variable', 'IdAnalista'])\n",
    "print('Después:\\n',df_ord_r['Año'].unique())"
   ]
  },
  {
   "cell_type": "markdown",
   "id": "7d8977b5-8122-4270-a39c-7ff68f2e13b5",
   "metadata": {},
   "source": [
    "### Orden columnas"
   ]
  },
  {
   "cell_type": "code",
   "execution_count": 17,
   "id": "c8dcdc3d-cf26-4ce1-9223-3eba18a68f54",
   "metadata": {},
   "outputs": [
    {
     "name": "stdout",
     "output_type": "stream",
     "text": [
      "Antes:\n"
     ]
    },
    {
     "data": {
      "text/plain": [
       "Index(['Fecha', 'IdVariable', 'Variable', 'IdAnalista', 'Expectativa', 'Año',\n",
       "       'Mes'],\n",
       "      dtype='object')"
      ]
     },
     "metadata": {},
     "output_type": "display_data"
    },
    {
     "data": {
      "text/html": [
       "<div>\n",
       "<style scoped>\n",
       "    .dataframe tbody tr th:only-of-type {\n",
       "        vertical-align: middle;\n",
       "    }\n",
       "\n",
       "    .dataframe tbody tr th {\n",
       "        vertical-align: top;\n",
       "    }\n",
       "\n",
       "    .dataframe thead th {\n",
       "        text-align: right;\n",
       "    }\n",
       "</style>\n",
       "<table border=\"1\" class=\"dataframe\">\n",
       "  <thead>\n",
       "    <tr style=\"text-align: right;\">\n",
       "      <th></th>\n",
       "      <th>Fecha</th>\n",
       "      <th>IdVariable</th>\n",
       "      <th>Variable</th>\n",
       "      <th>IdAnalista</th>\n",
       "      <th>Expectativa</th>\n",
       "      <th>Año</th>\n",
       "      <th>Mes</th>\n",
       "    </tr>\n",
       "  </thead>\n",
       "  <tbody>\n",
       "    <tr>\n",
       "      <th>594618</th>\n",
       "      <td>1999-01-01</td>\n",
       "      <td>saldopubt</td>\n",
       "      <td>Balance económico del sector público al cierre...</td>\n",
       "      <td>2</td>\n",
       "      <td>-1.9</td>\n",
       "      <td>1999</td>\n",
       "      <td>1</td>\n",
       "    </tr>\n",
       "    <tr>\n",
       "      <th>594619</th>\n",
       "      <td>1999-01-01</td>\n",
       "      <td>saldopubt</td>\n",
       "      <td>Balance económico del sector público al cierre...</td>\n",
       "      <td>4</td>\n",
       "      <td>-1.6</td>\n",
       "      <td>1999</td>\n",
       "      <td>1</td>\n",
       "    </tr>\n",
       "    <tr>\n",
       "      <th>594620</th>\n",
       "      <td>1999-01-01</td>\n",
       "      <td>saldopubt</td>\n",
       "      <td>Balance económico del sector público al cierre...</td>\n",
       "      <td>9</td>\n",
       "      <td>-1.3</td>\n",
       "      <td>1999</td>\n",
       "      <td>1</td>\n",
       "    </tr>\n",
       "    <tr>\n",
       "      <th>594621</th>\n",
       "      <td>1999-01-01</td>\n",
       "      <td>saldopubt</td>\n",
       "      <td>Balance económico del sector público al cierre...</td>\n",
       "      <td>10</td>\n",
       "      <td>-1.5</td>\n",
       "      <td>1999</td>\n",
       "      <td>1</td>\n",
       "    </tr>\n",
       "    <tr>\n",
       "      <th>594622</th>\n",
       "      <td>1999-01-01</td>\n",
       "      <td>saldopubt</td>\n",
       "      <td>Balance económico del sector público al cierre...</td>\n",
       "      <td>11</td>\n",
       "      <td>-1.4</td>\n",
       "      <td>1999</td>\n",
       "      <td>1</td>\n",
       "    </tr>\n",
       "  </tbody>\n",
       "</table>\n",
       "</div>"
      ],
      "text/plain": [
       "            Fecha IdVariable  \\\n",
       "594618 1999-01-01  saldopubt   \n",
       "594619 1999-01-01  saldopubt   \n",
       "594620 1999-01-01  saldopubt   \n",
       "594621 1999-01-01  saldopubt   \n",
       "594622 1999-01-01  saldopubt   \n",
       "\n",
       "                                                 Variable  IdAnalista  \\\n",
       "594618  Balance económico del sector público al cierre...           2   \n",
       "594619  Balance económico del sector público al cierre...           4   \n",
       "594620  Balance económico del sector público al cierre...           9   \n",
       "594621  Balance económico del sector público al cierre...          10   \n",
       "594622  Balance económico del sector público al cierre...          11   \n",
       "\n",
       "        Expectativa   Año  Mes  \n",
       "594618         -1.9  1999    1  \n",
       "594619         -1.6  1999    1  \n",
       "594620         -1.3  1999    1  \n",
       "594621         -1.5  1999    1  \n",
       "594622         -1.4  1999    1  "
      ]
     },
     "metadata": {},
     "output_type": "display_data"
    },
    {
     "name": "stdout",
     "output_type": "stream",
     "text": [
      "\n",
      "Después:\n"
     ]
    },
    {
     "data": {
      "text/plain": [
       "Index(['Fecha', 'Año', 'Mes', 'IdVariable', 'Variable', 'IdAnalista',\n",
       "       'Expectativa'],\n",
       "      dtype='object')"
      ]
     },
     "metadata": {},
     "output_type": "display_data"
    },
    {
     "data": {
      "text/html": [
       "<div>\n",
       "<style scoped>\n",
       "    .dataframe tbody tr th:only-of-type {\n",
       "        vertical-align: middle;\n",
       "    }\n",
       "\n",
       "    .dataframe tbody tr th {\n",
       "        vertical-align: top;\n",
       "    }\n",
       "\n",
       "    .dataframe thead th {\n",
       "        text-align: right;\n",
       "    }\n",
       "</style>\n",
       "<table border=\"1\" class=\"dataframe\">\n",
       "  <thead>\n",
       "    <tr style=\"text-align: right;\">\n",
       "      <th></th>\n",
       "      <th>Fecha</th>\n",
       "      <th>Año</th>\n",
       "      <th>Mes</th>\n",
       "      <th>IdVariable</th>\n",
       "      <th>Variable</th>\n",
       "      <th>IdAnalista</th>\n",
       "      <th>Expectativa</th>\n",
       "    </tr>\n",
       "  </thead>\n",
       "  <tbody>\n",
       "    <tr>\n",
       "      <th>594618</th>\n",
       "      <td>1999-01-01</td>\n",
       "      <td>1999</td>\n",
       "      <td>1</td>\n",
       "      <td>saldopubt</td>\n",
       "      <td>Balance económico del sector público al cierre...</td>\n",
       "      <td>2</td>\n",
       "      <td>-1.9</td>\n",
       "    </tr>\n",
       "    <tr>\n",
       "      <th>594619</th>\n",
       "      <td>1999-01-01</td>\n",
       "      <td>1999</td>\n",
       "      <td>1</td>\n",
       "      <td>saldopubt</td>\n",
       "      <td>Balance económico del sector público al cierre...</td>\n",
       "      <td>4</td>\n",
       "      <td>-1.6</td>\n",
       "    </tr>\n",
       "    <tr>\n",
       "      <th>594620</th>\n",
       "      <td>1999-01-01</td>\n",
       "      <td>1999</td>\n",
       "      <td>1</td>\n",
       "      <td>saldopubt</td>\n",
       "      <td>Balance económico del sector público al cierre...</td>\n",
       "      <td>9</td>\n",
       "      <td>-1.3</td>\n",
       "    </tr>\n",
       "    <tr>\n",
       "      <th>594621</th>\n",
       "      <td>1999-01-01</td>\n",
       "      <td>1999</td>\n",
       "      <td>1</td>\n",
       "      <td>saldopubt</td>\n",
       "      <td>Balance económico del sector público al cierre...</td>\n",
       "      <td>10</td>\n",
       "      <td>-1.5</td>\n",
       "    </tr>\n",
       "    <tr>\n",
       "      <th>594622</th>\n",
       "      <td>1999-01-01</td>\n",
       "      <td>1999</td>\n",
       "      <td>1</td>\n",
       "      <td>saldopubt</td>\n",
       "      <td>Balance económico del sector público al cierre...</td>\n",
       "      <td>11</td>\n",
       "      <td>-1.4</td>\n",
       "    </tr>\n",
       "  </tbody>\n",
       "</table>\n",
       "</div>"
      ],
      "text/plain": [
       "            Fecha   Año  Mes IdVariable  \\\n",
       "594618 1999-01-01  1999    1  saldopubt   \n",
       "594619 1999-01-01  1999    1  saldopubt   \n",
       "594620 1999-01-01  1999    1  saldopubt   \n",
       "594621 1999-01-01  1999    1  saldopubt   \n",
       "594622 1999-01-01  1999    1  saldopubt   \n",
       "\n",
       "                                                 Variable  IdAnalista  \\\n",
       "594618  Balance económico del sector público al cierre...           2   \n",
       "594619  Balance económico del sector público al cierre...           4   \n",
       "594620  Balance económico del sector público al cierre...           9   \n",
       "594621  Balance económico del sector público al cierre...          10   \n",
       "594622  Balance económico del sector público al cierre...          11   \n",
       "\n",
       "        Expectativa  \n",
       "594618         -1.9  \n",
       "594619         -1.6  \n",
       "594620         -1.3  \n",
       "594621         -1.5  \n",
       "594622         -1.4  "
      ]
     },
     "metadata": {},
     "output_type": "display_data"
    }
   ],
   "source": [
    "print('Antes:')\n",
    "display(df_ord_r.columns,df_ord_r.head())\n",
    "\n",
    "df_ord = df_ord_r.reindex(columns=['Fecha','Año', 'Mes','IdVariable','Variable','IdAnalista','Expectativa'])\n",
    "\n",
    "print('\\nDespués:')\n",
    "display(df_ord.columns,df_ord.head())"
   ]
  },
  {
   "cell_type": "markdown",
   "id": "e4a67c82-493f-4306-a2e8-242716b38812",
   "metadata": {},
   "source": [
    "### Variables"
   ]
  },
  {
   "cell_type": "code",
   "execution_count": 18,
   "id": "be0edefb-112f-4b66-8ec5-8c57786cd713",
   "metadata": {},
   "outputs": [
    {
     "data": {
      "text/plain": [
       "598"
      ]
     },
     "metadata": {},
     "output_type": "display_data"
    },
    {
     "data": {
      "text/plain": [
       "601"
      ]
     },
     "metadata": {},
     "output_type": "display_data"
    }
   ],
   "source": [
    "display(df_ord['IdVariable'].unique().size, df_ord['Variable'].unique().size)\n",
    "# Parece que hay una disparidad entre el número de idVariable y Variable,\n",
    "# porque debería ser el mismo número dado que se supone están pareadas."
   ]
  },
  {
   "cell_type": "code",
   "execution_count": 19,
   "id": "991d49b8-a2a2-4185-b821-66c316f1ef52",
   "metadata": {},
   "outputs": [
    {
     "name": "stdout",
     "output_type": "stream",
     "text": [
      "0\n",
      "3\n"
     ]
    },
    {
     "data": {
      "text/html": [
       "<div>\n",
       "<style scoped>\n",
       "    .dataframe tbody tr th:only-of-type {\n",
       "        vertical-align: middle;\n",
       "    }\n",
       "\n",
       "    .dataframe tbody tr th {\n",
       "        vertical-align: top;\n",
       "    }\n",
       "\n",
       "    .dataframe thead th {\n",
       "        text-align: right;\n",
       "    }\n",
       "</style>\n",
       "<table border=\"1\" class=\"dataframe\">\n",
       "  <thead>\n",
       "    <tr style=\"text-align: right;\">\n",
       "      <th></th>\n",
       "      <th>Variable</th>\n",
       "    </tr>\n",
       "    <tr>\n",
       "      <th>IdVariable</th>\n",
       "      <th></th>\n",
       "    </tr>\n",
       "  </thead>\n",
       "  <tbody>\n",
       "    <tr>\n",
       "      <th>tcmestmas1</th>\n",
       "      <td>2</td>\n",
       "    </tr>\n",
       "    <tr>\n",
       "      <th>tcmestmas2</th>\n",
       "      <td>2</td>\n",
       "    </tr>\n",
       "    <tr>\n",
       "      <th>tcmestmas3</th>\n",
       "      <td>2</td>\n",
       "    </tr>\n",
       "  </tbody>\n",
       "</table>\n",
       "</div>"
      ],
      "text/plain": [
       "            Variable\n",
       "IdVariable          \n",
       "tcmestmas1         2\n",
       "tcmestmas2         2\n",
       "tcmestmas3         2"
      ]
     },
     "metadata": {},
     "output_type": "display_data"
    },
    {
     "data": {
      "text/html": [
       "<div>\n",
       "<style scoped>\n",
       "    .dataframe tbody tr th:only-of-type {\n",
       "        vertical-align: middle;\n",
       "    }\n",
       "\n",
       "    .dataframe tbody tr th {\n",
       "        vertical-align: top;\n",
       "    }\n",
       "\n",
       "    .dataframe thead th {\n",
       "        text-align: right;\n",
       "    }\n",
       "</style>\n",
       "<table border=\"1\" class=\"dataframe\">\n",
       "  <thead>\n",
       "    <tr style=\"text-align: right;\">\n",
       "      <th></th>\n",
       "      <th>IdVariable</th>\n",
       "      <th>Variable</th>\n",
       "    </tr>\n",
       "  </thead>\n",
       "  <tbody>\n",
       "    <tr>\n",
       "      <th>594456</th>\n",
       "      <td>tcmestmas1</td>\n",
       "      <td>Valor del tipo de cambio promedio durante el m...</td>\n",
       "    </tr>\n",
       "    <tr>\n",
       "      <th>594484</th>\n",
       "      <td>tcmestmas2</td>\n",
       "      <td>Valor del tipo de cambio promedio durante el m...</td>\n",
       "    </tr>\n",
       "    <tr>\n",
       "      <th>594512</th>\n",
       "      <td>tcmestmas3</td>\n",
       "      <td>Valor del tipo de cambio promedio durante el m...</td>\n",
       "    </tr>\n",
       "    <tr>\n",
       "      <th>601195</th>\n",
       "      <td>tcmestmas1</td>\n",
       "      <td>Valor del tipo de cambio al cierre del siguien...</td>\n",
       "    </tr>\n",
       "    <tr>\n",
       "      <th>629394</th>\n",
       "      <td>tcmestmas2</td>\n",
       "      <td>Valor del tipo de cambio al cierre dentro de d...</td>\n",
       "    </tr>\n",
       "    <tr>\n",
       "      <th>1229261</th>\n",
       "      <td>tcmestmas3</td>\n",
       "      <td>Valor del tipo de cambio al cierre dentro de t...</td>\n",
       "    </tr>\n",
       "  </tbody>\n",
       "</table>\n",
       "</div>"
      ],
      "text/plain": [
       "         IdVariable                                           Variable\n",
       "594456   tcmestmas1  Valor del tipo de cambio promedio durante el m...\n",
       "594484   tcmestmas2  Valor del tipo de cambio promedio durante el m...\n",
       "594512   tcmestmas3  Valor del tipo de cambio promedio durante el m...\n",
       "601195   tcmestmas1  Valor del tipo de cambio al cierre del siguien...\n",
       "629394   tcmestmas2  Valor del tipo de cambio al cierre dentro de d...\n",
       "1229261  tcmestmas3  Valor del tipo de cambio al cierre dentro de t..."
      ]
     },
     "metadata": {},
     "output_type": "display_data"
    },
    {
     "data": {
      "text/plain": [
       "array(['Valor del tipo de cambio promedio durante el mes t+1',\n",
       "       'Valor del tipo de cambio promedio durante el mes t+2',\n",
       "       'Valor del tipo de cambio promedio durante el mes t+3',\n",
       "       'Valor del tipo de cambio al cierre del siguiente año',\n",
       "       'Valor del tipo de cambio al cierre dentro de dos años',\n",
       "       'Valor del tipo de cambio al cierre dentro de tres años'],\n",
       "      dtype=object)"
      ]
     },
     "metadata": {},
     "output_type": "display_data"
    }
   ],
   "source": [
    "# Buscar cualás IdVariable o Variable están repetidos.\n",
    "df_vars_uniq=df_ord[['IdVariable','Variable']].drop_duplicates()\n",
    "\n",
    "df_vars_varcount=df_vars_uniq.groupby(['Variable']).count()\n",
    "df_vars_varrepetida=df_vars_varcount[(df_vars_varcount['IdVariable']>1)]\n",
    "print(df_vars_varrepetida.size) # cero\n",
    "\n",
    "df_vars_idvarcount=df_vars_uniq.groupby(['IdVariable']).count()\n",
    "df_vars_idvarrepetida=df_vars_idvarcount[(df_vars_idvarcount['Variable']>1)]\n",
    "print(df_vars_idvarrepetida.size) # tres renglones con 2 repeticiones: tcmestmas1, tcmestmas2, tcmestmas3\n",
    "\n",
    "display(df_vars_idvarrepetida)\n",
    "df_variables_con_mismo_idVariable=df_vars_uniq[df_vars_uniq['IdVariable'].isin(['tcmestmas1','tcmestmas2','tcmestmas3'])]\n",
    "display(df_variables_con_mismo_idVariable)\n",
    "display(df_variables_con_mismo_idVariable['Variable'].unique())"
   ]
  },
  {
   "cell_type": "code",
   "execution_count": 20,
   "id": "735d1d7e-3030-47ee-9419-a6f7235f4056",
   "metadata": {},
   "outputs": [
    {
     "data": {
      "text/plain": [
       "array(['tcmestmas1', 'tcmestmas2', 'tcmestmas3'], dtype=object)"
      ]
     },
     "metadata": {},
     "output_type": "display_data"
    },
    {
     "data": {
      "text/plain": [
       "-2.5786373522105093"
      ]
     },
     "metadata": {},
     "output_type": "display_data"
    }
   ],
   "source": [
    "# Se eliminan los renglones con esas variables incongruentes\n",
    "arr_idVariables_a_quitar=df_variables_con_mismo_idVariable['IdVariable'].unique()\n",
    "display(arr_idVariables_a_quitar)\n",
    "df_homol=df_ord.query(\"IdVariable not in @arr_idVariables_a_quitar\")\n",
    "\n",
    "display((df_homol.index.size-df_ord.index.size)/df_ord.index.size*100)\n",
    "# Se quitaron aproximadamente el 2.6% de los renglones"
   ]
  },
  {
   "cell_type": "code",
   "execution_count": 21,
   "id": "1890f6d3-8eb2-4965-b892-5e45cac34ac8",
   "metadata": {},
   "outputs": [],
   "source": [
    "df = df_homol # deja el dataframe para la siguiente etapa"
   ]
  },
  {
   "cell_type": "markdown",
   "id": "abd78610-793b-45c1-b8ae-6b7c45f005ca",
   "metadata": {},
   "source": [
    "**PENDIENTE:**\n",
    "\n",
    "5. Estadísticas descriptivas\n",
    "6. Visualización\n",
    "7. Análisis de variables\n",
    "univariate, bivariate, or multivariate\n",
    "8. Análisis de series de tiempo\n",
    "When we analyze time series data, we can typically uncover patterns or trends that repeat over time and present a temporal seasonality. Key components of time series data include trends, seasonal variations, cyclical variations, and irregular variations or noise."
   ]
  },
  {
   "cell_type": "markdown",
   "id": "4e5092f8-bbc8-49aa-8360-16de01740533",
   "metadata": {},
   "source": [
    "# Análisis de número de respuestas"
   ]
  },
  {
   "cell_type": "code",
   "execution_count": 22,
   "id": "5301817e-2a4c-4d19-a2f3-dc227f22d03e",
   "metadata": {},
   "outputs": [
    {
     "data": {
      "text/plain": [
       "<Axes: title={'center': 'Número de preguntas por año de la Encuesta (2024 año en curso)'}, xlabel='Año de la Enuesta'>"
      ]
     },
     "execution_count": 22,
     "metadata": {},
     "output_type": "execute_result"
    },
    {
     "data": {
      "image/png": "[encoded data removed]",
      "text/plain": [
       "<Figure size 1000x500 with 1 Axes>"
      ]
     },
     "metadata": {},
     "output_type": "display_data"
    },
    {
     "data": {
      "image/png": "[encoded data removed]",
      "text/plain": [
       "<Figure size 1000x500 with 1 Axes>"
      ]
     },
     "metadata": {},
     "output_type": "display_data"
    },
    {
     "data": {
      "image/png": "[encoded data removed]",
      "text/plain": [
       "<Figure size 1000x500 with 1 Axes>"
      ]
     },
     "metadata": {},
     "output_type": "display_data"
    }
   ],
   "source": [
    "respuestasPorAño = df.groupby(by=[\"Año\"])[\"Expectativa\"].count()\n",
    "respuestasPorAño.name = 'Número de respuestas por año'\n",
    "respuestasPorAño.index.name = 'Año de la Enuesta'\n",
    "respuestasPorAño.to_frame().plot.bar(\n",
    "    title='Número de respuestas por año de la Encuesta (2024 año en curso)',\n",
    "    rot=70,\n",
    "    figsize=(10, 5),\n",
    "    color='darkblue')\n",
    "\n",
    "analistasDistintosPorAño = df.groupby(by=[\"Año\"])[\"IdAnalista\"].unique().apply(len)\n",
    "analistasDistintosPorAño.name = 'Número de analistas distintos'\n",
    "analistasDistintosPorAño.index.name = 'Año de la Enuesta'\n",
    "analistasDistintosPorAño.to_frame().plot.bar(\n",
    "    title='Número de analistas distintos por año de la Encuesta (2024 año en curso)',\n",
    "    rot=70,\n",
    "    figsize=(10, 5),\n",
    "    color ='darkred')\n",
    "\n",
    "analistasDistintosPorAño = df.groupby(by=[\"Año\"])[\"Variable\"].unique().apply(len)\n",
    "analistasDistintosPorAño.name = 'Número de preguntas distintas'\n",
    "analistasDistintosPorAño.index.name = 'Año de la Enuesta'\n",
    "analistasDistintosPorAño.to_frame().plot.bar(\n",
    "    title='Número de preguntas por año de la Encuesta (2024 año en curso)',\n",
    "    rot=70,\n",
    "    figsize=(10, 5),\n",
    "    color ='g')"
   ]
  },
  {
   "cell_type": "markdown",
   "id": "4e0d215d-7b60-49d6-8bde-29bf6d1c7d7a",
   "metadata": {},
   "source": [
    "---\n",
    "\n",
    "**$\\therefore $ Se concluye que el aumento de respuestas desde 2013 se podría explicar por el aumento de preguntas más que por el aumento de analistas.**\n",
    "\n",
    "---"
   ]
  },
  {
   "cell_type": "code",
   "execution_count": 23,
   "id": "c8c736f8-491a-4108-80f5-d68ea44f8321",
   "metadata": {},
   "outputs": [
    {
     "data": {
      "text/html": [
       "<div>\n",
       "<style scoped>\n",
       "    .dataframe tbody tr th:only-of-type {\n",
       "        vertical-align: middle;\n",
       "    }\n",
       "\n",
       "    .dataframe tbody tr th {\n",
       "        vertical-align: top;\n",
       "    }\n",
       "\n",
       "    .dataframe thead th {\n",
       "        text-align: right;\n",
       "    }\n",
       "</style>\n",
       "<table border=\"1\" class=\"dataframe\">\n",
       "  <thead>\n",
       "    <tr style=\"text-align: right;\">\n",
       "      <th></th>\n",
       "      <th>Año</th>\n",
       "      <th>Expectativa</th>\n",
       "    </tr>\n",
       "  </thead>\n",
       "  <tbody>\n",
       "    <tr>\n",
       "      <th>594126</th>\n",
       "      <td>1999</td>\n",
       "      <td>16.20</td>\n",
       "    </tr>\n",
       "    <tr>\n",
       "      <th>594127</th>\n",
       "      <td>1999</td>\n",
       "      <td>15.43</td>\n",
       "    </tr>\n",
       "    <tr>\n",
       "      <th>594128</th>\n",
       "      <td>1999</td>\n",
       "      <td>17.61</td>\n",
       "    </tr>\n",
       "    <tr>\n",
       "      <th>594129</th>\n",
       "      <td>1999</td>\n",
       "      <td>15.98</td>\n",
       "    </tr>\n",
       "    <tr>\n",
       "      <th>594130</th>\n",
       "      <td>1999</td>\n",
       "      <td>17.80</td>\n",
       "    </tr>\n",
       "    <tr>\n",
       "      <th>...</th>\n",
       "      <td>...</td>\n",
       "      <td>...</td>\n",
       "    </tr>\n",
       "    <tr>\n",
       "      <th>583129</th>\n",
       "      <td>2024</td>\n",
       "      <td>4.84</td>\n",
       "    </tr>\n",
       "    <tr>\n",
       "      <th>583130</th>\n",
       "      <td>2024</td>\n",
       "      <td>4.46</td>\n",
       "    </tr>\n",
       "    <tr>\n",
       "      <th>583131</th>\n",
       "      <td>2024</td>\n",
       "      <td>4.70</td>\n",
       "    </tr>\n",
       "    <tr>\n",
       "      <th>583132</th>\n",
       "      <td>2024</td>\n",
       "      <td>4.42</td>\n",
       "    </tr>\n",
       "    <tr>\n",
       "      <th>583133</th>\n",
       "      <td>2024</td>\n",
       "      <td>4.41</td>\n",
       "    </tr>\n",
       "  </tbody>\n",
       "</table>\n",
       "<p>9897 rows × 2 columns</p>\n",
       "</div>"
      ],
      "text/plain": [
       "         Año  Expectativa\n",
       "594126  1999        16.20\n",
       "594127  1999        15.43\n",
       "594128  1999        17.61\n",
       "594129  1999        15.98\n",
       "594130  1999        17.80\n",
       "...      ...          ...\n",
       "583129  2024         4.84\n",
       "583130  2024         4.46\n",
       "583131  2024         4.70\n",
       "583132  2024         4.42\n",
       "583133  2024         4.41\n",
       "\n",
       "[9897 rows x 2 columns]"
      ]
     },
     "metadata": {},
     "output_type": "display_data"
    },
    {
     "data": {
      "text/plain": [
       "Text(0.5, 1.0, 'Expectativa de Inflación General al cierre del año de la encuesta')"
      ]
     },
     "execution_count": 23,
     "metadata": {},
     "output_type": "execute_result"
    },
    {
     "data": {
      "image/png": "[encoded data removed]",
      "text/plain": [
       "<Figure size 1000x500 with 1 Axes>"
      ]
     },
     "metadata": {},
     "output_type": "display_data"
    },
    {
     "data": {
      "image/png": "[encoded data removed]",
      "text/plain": [
       "<Figure size 1000x500 with 1 Axes>"
      ]
     },
     "metadata": {},
     "output_type": "display_data"
    }
   ],
   "source": [
    "# Usando sintaxis de Pandas, sólo el año 1999:\n",
    "#    inflacion_general_anual = df[(df['NombreRelativoCorto']==\"infgent\") & (df['AñoEncuesta']==1999)]\n",
    "# Usando el método query:\n",
    "inflacion_general_anual = df.query('IdVariable==\"infgent\"')\n",
    "\n",
    "inflacion_general_anual = inflacion_general_anual[['Año','Expectativa']] # Crea dataframe con sólo estas dos columnas\n",
    "display(inflacion_general_anual)\n",
    "\n",
    "\n",
    "\n",
    "inflacion_general_anual.plot.scatter(\n",
    "    x='Año', y='Expectativa',\n",
    "    rot=70,\n",
    "    figsize=(10, 5),\n",
    "    color='purple', alpha=0.2)\n",
    "\n",
    "\n",
    "# Se asume que la distribución es normal, por lo que hacemos una gráfica de caja\n",
    "axes = inflacion_general_anual.boxplot(\n",
    "    column='Expectativa', by='Año',\n",
    "    ylabel='Porcentaje', xlabel='Año de la encuesta',\n",
    "    rot=70,\n",
    "    figsize=(10, 5),\n",
    "    color='purple')\n",
    "axes.set_title('Expectativa de Inflación General al cierre del año de la encuesta')"
   ]
  },
  {
   "cell_type": "code",
   "execution_count": null,
   "id": "6a404bca-7e5b-4b96-84c6-afc8ab9e85a4",
   "metadata": {},
   "outputs": [],
   "source": []
  }
 ],
 "metadata": {
  "kernelspec": {
   "display_name": "Python 3 (ipykernel)",
   "language": "python",
   "name": "python3"
  },
  "language_info": {
   "codemirror_mode": {
    "name": "ipython",
    "version": 3
   },
   "file_extension": ".py",
   "mimetype": "text/x-python",
   "name": "python",
   "nbconvert_exporter": "python",
   "pygments_lexer": "ipython3",
   "version": "3.12.5"
  }
 },
 "nbformat": 4,
 "nbformat_minor": 5
}
